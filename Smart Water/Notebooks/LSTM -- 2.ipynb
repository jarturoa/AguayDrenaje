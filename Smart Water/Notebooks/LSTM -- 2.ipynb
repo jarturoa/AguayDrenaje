{
 "cells": [
  {
   "cell_type": "markdown",
   "metadata": {},
   "source": [
    "## Same as LSTM -- 1, but uses lag of 3 days prior"
   ]
  },
  {
   "cell_type": "code",
   "execution_count": 1,
   "metadata": {},
   "outputs": [],
   "source": [
    "from math import sqrt\n",
    "from numpy import concatenate\n",
    "from matplotlib import pyplot\n",
    "from datetime import datetime\n",
    "\n",
    "from pandas import read_csv\n",
    "from pandas import DataFrame\n",
    "from pandas import concat\n",
    "\n",
    "from sklearn.preprocessing import MinMaxScaler\n",
    "from sklearn.preprocessing import LabelEncoder\n",
    "from sklearn.metrics import mean_squared_error\n",
    "\n",
    "import tensorflow as tf"
   ]
  },
  {
   "cell_type": "code",
   "execution_count": 2,
   "metadata": {},
   "outputs": [],
   "source": [
    "# convert series to supervised learning\n",
    "def series_to_supervised(data, n_in=1, n_out=1, dropnan=True):\n",
    "    n_vars = 1 if type(data) is list else data.shape[1]\n",
    "    df = DataFrame(data)\n",
    "    cols, names = list(), list()\n",
    "    # input sequence (t-n, ... t-1)\n",
    "    for i in range(n_in, 0, -1):\n",
    "        cols.append(df.shift(i))\n",
    "        names += [('var%d(t-%d)' % (j+1, i)) for j in range(n_vars)]\n",
    "    # forecast sequence (t, t+1, ... t+n)\n",
    "    for i in range(0, n_out):\n",
    "        cols.append(df.shift(-i))\n",
    "        if i == 0:\n",
    "            names += [('var%d(t)' % (j+1)) for j in range(n_vars)]\n",
    "        else:\n",
    "            names += [('var%d(t+%d)' % (j+1, i)) for j in range(n_vars)]\n",
    "    # put it all together\n",
    "    agg = concat(cols, axis=1)\n",
    "    agg.columns = names\n",
    "    # drop rows with NaN values\n",
    "    if dropnan:\n",
    "        agg.dropna(inplace=True)\n",
    "    return agg"
   ]
  },
  {
   "cell_type": "code",
   "execution_count": 18,
   "metadata": {},
   "outputs": [
    {
     "name": "stdout",
     "output_type": "stream",
     "text": [
      "(2188, 136)\n"
     ]
    }
   ],
   "source": [
    "# load dataset\n",
    "dataset = read_csv(\"C:/Users/3PX00LA_RS4/Documents/ATOS challenge/Damanda Diaria/Models/DataFinalLSTMCleaned.csv\", header=0, index_col=0)\n",
    "values = dataset.values\n",
    "\n",
    "# ensure all data is float\n",
    "values = values.astype('float32')\n",
    "\n",
    "# normalize features\n",
    "scaler = MinMaxScaler(feature_range=(0, 1))\n",
    "scaled = scaler.fit_transform(values)\n",
    "\n",
    "# specify the number of lag days\n",
    "n_days = 3\n",
    "n_features = 33\n",
    "\n",
    "# frame as supervised learning\n",
    "reframed = series_to_supervised(scaled, n_days, 1)\n",
    "print(reframed.shape)"
   ]
  },
  {
   "cell_type": "code",
   "execution_count": 19,
   "metadata": {},
   "outputs": [
    {
     "name": "stdout",
     "output_type": "stream",
     "text": [
      "(1095, 99) 1095 (1095,)\n",
      "(1095, 3, 33) (1095,) (1093, 3, 33) (1093,)\n"
     ]
    }
   ],
   "source": [
    "# split into train and test sets\n",
    "values = reframed.values\n",
    "n_train_days = 365 * 3\n",
    "train = values[:n_train_days, :]\n",
    "test = values[n_train_days:, :]\n",
    "\n",
    "# split into input and outputs\n",
    "n_obs = n_days * n_features\n",
    "train_X, train_y = train[:, :n_obs], train[:, -n_features]\n",
    "test_X, test_y = test[:, :n_obs], test[:, -n_features]\n",
    "print(train_X.shape, len(train_X), train_y.shape)\n",
    "\n",
    "# reshape input to be 3D [samples, timesteps, features]\n",
    "train_X = train_X.reshape((train_X.shape[0], n_days, n_features))\n",
    "test_X = test_X.reshape((test_X.shape[0], n_days, n_features))\n",
    "print(train_X.shape, train_y.shape, test_X.shape, test_y.shape)"
   ]
  },
  {
   "cell_type": "code",
   "execution_count": 20,
   "metadata": {},
   "outputs": [
    {
     "name": "stdout",
     "output_type": "stream",
     "text": [
      "Train on 1095 samples, validate on 1093 samples\n",
      "Epoch 1/50\n",
      "1095/1095 - 3s - loss: 0.2569 - val_loss: 0.2326\n",
      "Epoch 2/50\n",
      "1095/1095 - 0s - loss: 0.2351 - val_loss: 0.2263\n",
      "Epoch 3/50\n",
      "1095/1095 - 0s - loss: 0.2281 - val_loss: 0.2221\n",
      "Epoch 4/50\n",
      "1095/1095 - 0s - loss: 0.2247 - val_loss: 0.2181\n",
      "Epoch 5/50\n",
      "1095/1095 - 0s - loss: 0.2219 - val_loss: 0.2154\n",
      "Epoch 6/50\n",
      "1095/1095 - 0s - loss: 0.2209 - val_loss: 0.2136\n",
      "Epoch 7/50\n",
      "1095/1095 - 0s - loss: 0.2196 - val_loss: 0.2127\n",
      "Epoch 8/50\n",
      "1095/1095 - 0s - loss: 0.2199 - val_loss: 0.2160\n",
      "Epoch 9/50\n",
      "1095/1095 - 0s - loss: 0.2171 - val_loss: 0.2113\n",
      "Epoch 10/50\n",
      "1095/1095 - 0s - loss: 0.2120 - val_loss: 0.2089\n",
      "Epoch 11/50\n",
      "1095/1095 - 0s - loss: 0.2102 - val_loss: 0.2085\n",
      "Epoch 12/50\n",
      "1095/1095 - 0s - loss: 0.2098 - val_loss: 0.2072\n",
      "Epoch 13/50\n",
      "1095/1095 - 0s - loss: 0.2088 - val_loss: 0.2062\n",
      "Epoch 14/50\n",
      "1095/1095 - 0s - loss: 0.2077 - val_loss: 0.2053\n",
      "Epoch 15/50\n",
      "1095/1095 - 0s - loss: 0.2069 - val_loss: 0.2043\n",
      "Epoch 16/50\n",
      "1095/1095 - 0s - loss: 0.2063 - val_loss: 0.2039\n",
      "Epoch 17/50\n",
      "1095/1095 - 0s - loss: 0.2056 - val_loss: 0.2034\n",
      "Epoch 18/50\n",
      "1095/1095 - 0s - loss: 0.2043 - val_loss: 0.2028\n",
      "Epoch 19/50\n",
      "1095/1095 - 0s - loss: 0.2039 - val_loss: 0.2022\n",
      "Epoch 20/50\n",
      "1095/1095 - 0s - loss: 0.2033 - val_loss: 0.2019\n",
      "Epoch 21/50\n",
      "1095/1095 - 0s - loss: 0.2035 - val_loss: 0.2018\n",
      "Epoch 22/50\n",
      "1095/1095 - 0s - loss: 0.2023 - val_loss: 0.2014\n",
      "Epoch 23/50\n",
      "1095/1095 - 0s - loss: 0.2028 - val_loss: 0.2037\n",
      "Epoch 24/50\n",
      "1095/1095 - 0s - loss: 0.2019 - val_loss: 0.2015\n",
      "Epoch 25/50\n",
      "1095/1095 - 0s - loss: 0.2013 - val_loss: 0.2015\n",
      "Epoch 26/50\n",
      "1095/1095 - 0s - loss: 0.2021 - val_loss: 0.2018\n",
      "Epoch 27/50\n",
      "1095/1095 - 0s - loss: 0.2005 - val_loss: 0.2010\n",
      "Epoch 28/50\n",
      "1095/1095 - 0s - loss: 0.2003 - val_loss: 0.2017\n",
      "Epoch 29/50\n",
      "1095/1095 - 0s - loss: 0.2013 - val_loss: 0.2026\n",
      "Epoch 30/50\n",
      "1095/1095 - 0s - loss: 0.2000 - val_loss: 0.2020\n",
      "Epoch 31/50\n",
      "1095/1095 - 0s - loss: 0.2002 - val_loss: 0.2018\n",
      "Epoch 32/50\n",
      "1095/1095 - 0s - loss: 0.2008 - val_loss: 0.2037\n",
      "Epoch 33/50\n",
      "1095/1095 - 0s - loss: 0.2002 - val_loss: 0.2033\n",
      "Epoch 34/50\n",
      "1095/1095 - 0s - loss: 0.2027 - val_loss: 0.2048\n",
      "Epoch 35/50\n",
      "1095/1095 - 0s - loss: 0.2012 - val_loss: 0.2040\n",
      "Epoch 36/50\n",
      "1095/1095 - 0s - loss: 0.2024 - val_loss: 0.2050\n",
      "Epoch 37/50\n",
      "1095/1095 - 0s - loss: 0.2065 - val_loss: 0.2034\n",
      "Epoch 38/50\n",
      "1095/1095 - 0s - loss: 0.2070 - val_loss: 0.2009\n",
      "Epoch 39/50\n",
      "1095/1095 - 0s - loss: 0.2082 - val_loss: 0.2016\n",
      "Epoch 40/50\n",
      "1095/1095 - 0s - loss: 0.2078 - val_loss: 0.2066\n",
      "Epoch 41/50\n",
      "1095/1095 - 0s - loss: 0.2075 - val_loss: 0.2076\n",
      "Epoch 42/50\n",
      "1095/1095 - 0s - loss: 0.2040 - val_loss: 0.2046\n",
      "Epoch 43/50\n",
      "1095/1095 - 0s - loss: 0.2009 - val_loss: 0.2029\n",
      "Epoch 44/50\n",
      "1095/1095 - 0s - loss: 0.1997 - val_loss: 0.2022\n",
      "Epoch 45/50\n",
      "1095/1095 - 0s - loss: 0.1988 - val_loss: 0.2004\n",
      "Epoch 46/50\n",
      "1095/1095 - 0s - loss: 0.1992 - val_loss: 0.2011\n",
      "Epoch 47/50\n",
      "1095/1095 - 0s - loss: 0.1999 - val_loss: 0.2016\n",
      "Epoch 48/50\n",
      "1095/1095 - 0s - loss: 0.1997 - val_loss: 0.2021\n",
      "Epoch 49/50\n",
      "1095/1095 - 0s - loss: 0.1998 - val_loss: 0.2031\n",
      "Epoch 50/50\n",
      "1095/1095 - 0s - loss: 0.1992 - val_loss: 0.2028\n"
     ]
    },
    {
     "data": {
      "image/png": "[encoded data removed]",
      "text/plain": [
       "<Figure size 432x288 with 1 Axes>"
      ]
     },
     "metadata": {
      "needs_background": "light"
     },
     "output_type": "display_data"
    }
   ],
   "source": [
    "# design network\n",
    "model = tf.keras.models.Sequential()\n",
    "model.add(tf.keras.layers.LSTM(50, input_shape=(train_X.shape[1], train_X.shape[2])))\n",
    "model.add(tf.keras.layers.Dense(1))\n",
    "model.compile(loss='mae', optimizer='adam')\n",
    "\n",
    "# fit network\n",
    "history = model.fit(train_X, train_y, epochs=50, batch_size=72, validation_data=(test_X, test_y), verbose=2, shuffle=False)\n",
    "\n",
    "# plot history\n",
    "pyplot.plot(history.history['loss'], label='train')\n",
    "pyplot.plot(history.history['val_loss'], label='test')\n",
    "pyplot.legend()\n",
    "pyplot.show()"
   ]
  },
  {
   "cell_type": "code",
   "execution_count": 21,
   "metadata": {},
   "outputs": [
    {
     "name": "stdout",
     "output_type": "stream",
     "text": [
      "Test RMSE: 36.703\n"
     ]
    }
   ],
   "source": [
    "# make a prediction\n",
    "yhat = model.predict(test_X)\n",
    "test_X = test_X.reshape((test_X.shape[0], n_days*n_features))\n",
    "\n",
    "# invert scaling for forecast\n",
    "inv_yhat = concatenate((yhat, test_X[:, -33:]), axis=1)\n",
    "inv_yhat = scaler.inverse_transform(inv_yhat)\n",
    "inv_yhat = inv_yhat[:,0]\n",
    "\n",
    "# invert scaling for actual\n",
    "test_y = test_y.reshape((len(test_y), 1))\n",
    "inv_y = concatenate((test_y, test_X[:, -33:]), axis=1)\n",
    "inv_y = scaler.inverse_transform(inv_y)\n",
    "inv_y = inv_y[:,0]\n",
    "\n",
    "# calculate RMSE\n",
    "rmse = sqrt(mean_squared_error(inv_y, inv_yhat))\n",
    "print('Test RMSE: %.3f' % rmse)"
   ]
  },
  {
   "cell_type": "code",
   "execution_count": null,
   "metadata": {},
   "outputs": [],
   "source": []
  }
 ],
 "metadata": {
  "kernelspec": {
   "display_name": "Python 3.7 (tensorflow)",
   "language": "python",
   "name": "tensorflow"
  },
  "language_info": {
   "codemirror_mode": {
    "name": "ipython",
    "version": 3
   },
   "file_extension": ".py",
   "mimetype": "text/x-python",
   "name": "python",
   "nbconvert_exporter": "python",
   "pygments_lexer": "ipython3",
   "version": "3.7.6"
  }
 },
 "nbformat": 4,
 "nbformat_minor": 4
}
